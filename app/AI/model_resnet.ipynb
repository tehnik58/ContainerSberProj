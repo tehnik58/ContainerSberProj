{
 "cells": [
  {
   "cell_type": "markdown",
   "metadata": {},
   "source": [
    "# Импорт библиотек и загрузка данных"
   ]
  },
  {
   "cell_type": "code",
   "execution_count": 15,
   "metadata": {},
   "outputs": [],
   "source": [
    "import json\n",
    "import cv2 \n",
    "import matplotlib.pyplot as plt\n",
    "from pathlib import Path\n",
    "import numpy as np\n",
    "import seaborn as sns\n",
    "import pandas as pd\n",
    "from collections import Counter\n",
    "from functools import lru_cache\n",
    "import os\n",
    "import shutil\n",
    "import re\n",
    "import logging\n",
    "from torch.utils.data import Dataset, DataLoader, random_split\n",
    "from torchvision import datasets, transforms, models\n",
    "from torch import nn\n",
    "from torch import optim\n",
    "from tqdm import tqdm\n",
    "import torch.nn.functional as F\n",
    "from sklearn.metrics import precision_score, recall_score, accuracy_score, f1_score\n",
    "import torch"
   ]
  },
  {
   "cell_type": "markdown",
   "metadata": {},
   "source": [
    "## Считываем данные"
   ]
  },
  {
   "cell_type": "code",
   "execution_count": 49,
   "metadata": {},
   "outputs": [
    {
     "name": "stderr",
     "output_type": "stream",
     "text": [
      "<>:49: SyntaxWarning: invalid escape sequence '\\d'\n",
      "<>:49: SyntaxWarning: invalid escape sequence '\\d'\n",
      "C:\\Users\\maksi\\AppData\\Local\\Temp\\ipykernel_9316\\1111695564.py:49: SyntaxWarning: invalid escape sequence '\\d'\n",
      "  return [int(x) for x in re.findall(\"\\d+\", st)]\n"
     ]
    }
   ],
   "source": [
    "class ImageDataset:\n",
    "    def __init__(self, path, path2image, n_classes=15):\n",
    "        # Загрузка данных из CSV\n",
    "        self.df = pd.read_csv(path)\n",
    "        self.path2image = Path(path2image)\n",
    "        self.N = n_classes\n",
    "        \n",
    "    def __len__(self):\n",
    "        return len(self.df)\n",
    "\n",
    "    def _encode_label(self, classes):\n",
    "        label = np.zeros(self.N)\n",
    "        for c in np.array(classes, dtype=np.int16) - 1:\n",
    "            label[c] = 1\n",
    "        return label\n",
    "        \n",
    "    def sample(self, clss=1, count=15):\n",
    "        files = []\n",
    "        while len(files) < count:\n",
    "            indx = np.random.randint(0, len(self.df))\n",
    "            labels = self.df.iloc[indx][\"OUTPUT:classes\"]\n",
    "            try:\n",
    "                if clss in self.parse(labels):\n",
    "                    files.append(self.path2image / self.file_name(indx))\n",
    "            except:\n",
    "                continue\n",
    "        return files\n",
    "    \n",
    "    def create_path(self, indx):\n",
    "        return str(self.path2image / self.file_name(indx))\n",
    "        \n",
    "    def __getitem__(self, indx):\n",
    "        img = cv2.imread(self.create_path(indx))\n",
    "        clases = self.parse(self.df.iloc[indx][\"OUTPUT:classes\"])\n",
    "        label = self._encode_label(clases)\n",
    "        sample = {'image': img,\n",
    "                  'label': label}\n",
    "        return sample\n",
    "            \n",
    "    def file_name(self, indx):\n",
    "        return self.df.iloc[indx]['file_name']\n",
    "    \n",
    "    def resize(self, img, scale=2):    \n",
    "        shape = (np.array(img.shape[:2]) / scale).astype(np.int32)\n",
    "        return cv2.resize(img, shape)\n",
    "    \n",
    "    def parse(self, st):        \n",
    "        # Преобразуем строку вида '[2, 5, 11]' в список [2, 5, 11]\n",
    "        return [int(x) for x in re.findall(\"\\d+\", st)]"
   ]
  },
  {
   "cell_type": "code",
   "execution_count": 50,
   "metadata": {},
   "outputs": [],
   "source": [
    "class TorchImageDataset(ImageDataset, Dataset):\n",
    "    def __init__(self, path, path2image, imgsz=256, MEAN = (0.485, 0.456, 0.406), STD = (0.229, 0.224, 0.225)):\n",
    "        super().__init__(path, path2image)\n",
    "        self.imgsz = imgsz\n",
    "        self.fransform_img= transforms.Compose([\n",
    "                    transforms.ToTensor(),\n",
    "                    transforms.Resize((self.imgsz, self.imgsz)),\n",
    "                    transforms.RandomHorizontalFlip(),\n",
    "                    transforms.RandomRotation(10),    \n",
    "                    transforms.ColorJitter(brightness=0.2, \n",
    "                                                   contrast=0.2, \n",
    "                                                   saturation=0.2, \n",
    "                                                   hue=0.2),\n",
    "                    transforms.Normalize(mean=MEAN, std=STD),\n",
    "        ])\n",
    "            \n",
    "    @lru_cache(10000)\n",
    "    def __getitem__(self,indx):\n",
    "        img, label = super().__getitem__(indx).values()\n",
    "        if img is not None:\n",
    "            img = self.fransform_img(img)\n",
    "            return {'image':img,'label':label}"
   ]
  },
  {
   "cell_type": "markdown",
   "metadata": {},
   "source": [
    "## Подготовка файла"
   ]
  },
  {
   "cell_type": "markdown",
   "metadata": {},
   "source": [
    "## Получаем датасет"
   ]
  },
  {
   "cell_type": "code",
   "execution_count": 51,
   "metadata": {},
   "outputs": [],
   "source": [
    "dataset = TorchImageDataset(\"./analis/data.csv\",  \"../Resize/\")"
   ]
  },
  {
   "cell_type": "markdown",
   "metadata": {},
   "source": [
    "## DataLoader"
   ]
  },
  {
   "cell_type": "code",
   "execution_count": 52,
   "metadata": {},
   "outputs": [],
   "source": [
    "def to_device(data, device):\n",
    "    \"\"\"Move tensor(s) to chosen device\"\"\"\n",
    "    if isinstance(data, (list,tuple)):\n",
    "        return [to_device(x, device) for x in data]\n",
    "    return data.to(device, non_blocking=True)\n",
    "\n",
    "class DeviceDataLoader():  \n",
    "    \"\"\"Wrap a dataloader to move data to a device\"\"\"\n",
    "    def __init__(self, dl, device):\n",
    "        self.dl = dl\n",
    "        self.device = device       \n",
    "\n",
    "    def __iter__(self):\n",
    "        \"\"\"Yield a batch of data after moving it to device\"\"\"\n",
    "        for b in self.dl: \n",
    "            img,label = tuple(b.values())\n",
    "            img = to_device(img,self.device)\n",
    "            label = to_device(label, self.device)\n",
    "            yield {\"image\":img,\"label\":label}\n",
    "\n",
    "    def __len__(self):\n",
    "        \"\"\"Number of batches\"\"\"\n",
    "        return len(self.dl)"
   ]
  },
  {
   "cell_type": "code",
   "execution_count": 53,
   "metadata": {},
   "outputs": [],
   "source": [
    "def split_data(dataset, train_ratio=0.7, val_ratio=0.1):\n",
    "\n",
    "    total_size = len(dataset)\n",
    "    train_size = int(train_ratio * total_size)\n",
    "    val_size = int(val_ratio * total_size)\n",
    "    test_size = total_size - train_size - val_size\n",
    "\n",
    "    train_data, val_data, test_data = random_split(dataset, [train_size, val_size, test_size])\n",
    "\n",
    "    return train_data, val_data, test_data"
   ]
  },
  {
   "cell_type": "code",
   "execution_count": 71,
   "metadata": {},
   "outputs": [],
   "source": [
    "train_data, val_data, test_data = split_data(dataset, train_ratio=0.6, val_ratio=0.05)"
   ]
  },
  {
   "cell_type": "code",
   "execution_count": 55,
   "metadata": {},
   "outputs": [
    {
     "data": {
      "text/plain": [
       "dict"
      ]
     },
     "execution_count": 55,
     "metadata": {},
     "output_type": "execute_result"
    }
   ],
   "source": [
    "type(dataset[0])"
   ]
  },
  {
   "cell_type": "code",
   "execution_count": 56,
   "metadata": {},
   "outputs": [],
   "source": [
    "device = torch.device(\"cuda:0\")"
   ]
  },
  {
   "cell_type": "code",
   "execution_count": 57,
   "metadata": {},
   "outputs": [
    {
     "data": {
      "text/plain": [
       "14594"
      ]
     },
     "execution_count": 57,
     "metadata": {},
     "output_type": "execute_result"
    }
   ],
   "source": [
    "len(dataset)"
   ]
  },
  {
   "cell_type": "code",
   "execution_count": 72,
   "metadata": {},
   "outputs": [],
   "source": [
    "train_loader = DeviceDataLoader(DataLoader(train_data, batch_size=16,num_workers = 0), device=device)\n",
    "val_loader   = DeviceDataLoader(DataLoader(val_data, batch_size=16,num_workers = 0), device=device)\n",
    "test_loader   = DeviceDataLoader(DataLoader(test_data, batch_size=16,num_workers = 0), device=device)"
   ]
  },
  {
   "cell_type": "markdown",
   "metadata": {},
   "source": [
    "# Обучение модели"
   ]
  },
  {
   "cell_type": "code",
   "execution_count": null,
   "metadata": {},
   "outputs": [],
   "source": [
    "class ModelMultilabel(nn.Module):\n",
    "    def __init__(self, n_classes):\n",
    "        super(ModelMultilabel, self).__init__()\n",
    "        self.n_classes = n_classes\n",
    "        \n",
    "        self.model = timm.create_model('resnet18', pretrained=True)\n",
    "        \n",
    "        self.model.fc = nn.Identity()\n",
    "        \n",
    "        self.fc = nn.Linear(512, self.n_classes) \n",
    "        \n",
    "    def forward(self, x):\n",
    "\n",
    "        x = self.model(x)\n",
    "\n",
    "        x = self.fc(x)\n",
    "        \n",
    "        return x\n",
    "\n",
    "def train_model(model, dataloader_train, dataloader_valid, learningRate, num_epochs, device = 'cuda:0'):\n",
    "    logger = logging.getLogger('api_log')\n",
    "    logger.setLevel(logging.INFO)\n",
    "    file_handler = logging.FileHandler(f'log_{learningRate}.txt')\n",
    "    file_handler.setLevel(logging.DEBUG)\n",
    "    formatter = logging.Formatter('%(asctime)s - %(levelname)s - %(message)s')\n",
    "    file_handler.setFormatter(formatter)\n",
    "    logger.addHandler(file_handler)\n",
    "    logger.debug(f\"Start_train  lr={learningRate}\")\n",
    "    \n",
    "    # Установка оптимизатора с текущей скоростью обучения\n",
    "    optimizer = optim.Adam(model.parameters(), lr=learningRate)\n",
    "    criterion = nn.CrossEntropyLoss()\n",
    "    # Цикл обучения\n",
    "    for epoch in range(num_epochs):\n",
    "        model.train()\n",
    "        running_loss = 0.0\n",
    "        all_labels = []\n",
    "        all_predictions = []\n",
    "\n",
    "        for s in tqdm(dataloader_train, desc=f'Training Epoch {epoch+1}/{num_epochs}'):\n",
    "            if s is None:\n",
    "                continue\n",
    "            inputs = s['image']\n",
    "            labels = s['label']\n",
    "            inputs, labels = inputs.to(device), labels.to(device)\n",
    "            optimizer.zero_grad()\n",
    "            outputs = model(inputs)  # Выходы модели\n",
    "            loss = criterion(outputs, labels)\n",
    "            loss.backward()\n",
    "            optimizer.step()\n",
    "\n",
    "            running_loss += loss.item() * inputs.size(0)\n",
    "\n",
    "            predicted = outputs\n",
    "            all_labels.extend(labels.detach().cpu().numpy())\n",
    "            all_predictions.extend(predicted.detach().cpu().numpy())\n",
    "        # Средняя потеря за эпоху\n",
    "        epoch_loss = running_loss / len(dataloader_train)\n",
    "        # precision = precision_score(all_labels, all_predictions, average='weighted')\n",
    "        # recall = recall_score(all_labels, all_predictions, average='weighted')\n",
    "        # accuracy = accuracy_score(all_labels, all_predictions)\n",
    "        f_score = F_score(all_predictions, all_labels)\n",
    "        # print(f\"Epoch {epoch+1}/{num_epochs}, Training Loss: {epoch_loss:.4f}, \"\n",
    "        #       f\"Recall: {recall:.4f}, Precision: {precision:.4f}, Accuracy: {accuracy:.4f}, F_score: {f_score:.4f}\")\n",
    "        logger.info(f\"Epoch {epoch+1}/{num_epochs}, Training Loss: {epoch_loss:.4f}, F_score: {f_score:.4f}\")\n",
    "        \n",
    "        # logger.debug(f\"Epoch {epoch+1}/{num_epochs}, Training Loss: {epoch_loss:.4f}, Recall: {recall:.4f}, Precision: {precision:.4f}, Accuracy: {accuracy:.4f},  F_score: {f_score:.4f}\")\n",
    "        validate_model(model, dataloader_valid, logger)    \n",
    "    # Сохранение модели\n",
    "    torch.save(model.state_dict(), f'model_{learningRate}.pth')\n",
    "    \n",
    "def validate_model(model, dataloader_valid, logger, device='cuda:0'):\n",
    "    model.eval()\n",
    "    all_labels = []\n",
    "    all_predictions = []\n",
    "    with torch.no_grad():\n",
    "        for s in tqdm(dataloader_valid, desc='Validation'):\n",
    "            if s is None:\n",
    "                continue\n",
    "            inputs = s['image']\n",
    "            labels = s['label']\n",
    "            inputs, labels = inputs.to(device), labels.to(device)\n",
    "\n",
    "            outputs = model(inputs)\n",
    "            predicted = outputs\n",
    "            all_labels.extend(labels.detach().cpu().numpy())\n",
    "            all_predictions.extend(predicted.detach().cpu().numpy())\n",
    "\n",
    "    # precision = precision_score(all_labels, all_predictions, average='weighted')\n",
    "    # recall = recall_score(all_labels, all_predictions, average='weighted')\n",
    "    # accuracy = accuracy_score(all_labels, all_predictions)\n",
    "    f_score = F_score(all_predictions, all_labels)\n",
    "    # print(f\"Validation Results - Recall: {recall:.4f}, Precision: {precision:.4f}, Accuracy: {accuracy:.4f}\")\n",
    "    # logger.debug(f\"Validation Results - Recall: {recall:.4f}, Precision: {precision:.4f}, Accuracy: {accuracy:.4f}, F_score: {f_score:.4f}\")\n",
    "    logger.info(f\"Validation Results -  F_score: {f_score:.4f}\")\n",
    "\n",
    "\n",
    "def F_score(output, label, threshold=0.5, beta=1): #Calculate the accuracy of the model\n",
    "    if isinstance(output, list):\n",
    "        output = np.array(output)\n",
    "    if isinstance(label, list):\n",
    "        label = np.array(label)\n",
    "    print(label.shape, output.shape)\n",
    "    assert (output.shape == label.shape),'shape is different'\n",
    "    prob = output > threshold\n",
    "    label = label > threshold\n",
    "\n",
    "    TP = (prob == label).sum()\n",
    "    TN = (np.bitwise_not(prob) == np.bitwise_not(label)).sum()\n",
    "    FP = (prob == np.bitwise_not(label)).sum()\n",
    "    FN = (np.bitwise_not(prob) == label).sum()\n",
    "    print(TP, TN, FP, FN)\n",
    "    precision = np.mean(TP / (TP + FP + 1e-12))\n",
    "    recall = np.mean(TP / (TP + FN + 1e-12))\n",
    "    F2 = (1 + beta**2) * precision * recall / (beta**2 * precision + recall + 1e-12)\n",
    "    return F2\n"
   ]
  },
  {
   "cell_type": "code",
   "execution_count": 68,
   "metadata": {},
   "outputs": [],
   "source": [
    "import timm"
   ]
  },
  {
   "cell_type": "code",
   "execution_count": 74,
   "metadata": {},
   "outputs": [],
   "source": [
    "model = ModelMultilabel(15).to(device)"
   ]
  },
  {
   "cell_type": "code",
   "execution_count": 70,
   "metadata": {},
   "outputs": [
    {
     "data": {
      "text/plain": [
       "array([0., 1., 0., 0., 1., 0., 0., 0., 1., 0., 1., 0., 0., 0., 0.])"
      ]
     },
     "execution_count": 70,
     "metadata": {},
     "output_type": "execute_result"
    }
   ],
   "source": [
    "dataset[1]['label']"
   ]
  },
  {
   "cell_type": "code",
   "execution_count": 75,
   "metadata": {},
   "outputs": [
    {
     "name": "stderr",
     "output_type": "stream",
     "text": [
      "Training Epoch 1/50: 100%|██████████| 548/548 [10:57<00:00,  1.20s/it]\n"
     ]
    },
    {
     "name": "stdout",
     "output_type": "stream",
     "text": [
      "(8756, 15) (8756, 15)\n",
      "111997 111997 19343 19343\n"
     ]
    },
    {
     "name": "stderr",
     "output_type": "stream",
     "text": [
      "Validation: 100%|██████████| 46/46 [01:37<00:00,  2.11s/it]\n"
     ]
    },
    {
     "name": "stdout",
     "output_type": "stream",
     "text": [
      "(729, 15) (729, 15)\n",
      "9545 9545 1390 1390\n"
     ]
    },
    {
     "name": "stderr",
     "output_type": "stream",
     "text": [
      "Training Epoch 2/50: 100%|██████████| 548/548 [00:39<00:00, 13.90it/s]\n"
     ]
    },
    {
     "name": "stdout",
     "output_type": "stream",
     "text": [
      "(8756, 15) (8756, 15)\n",
      "115233 115233 16107 16107\n"
     ]
    },
    {
     "name": "stderr",
     "output_type": "stream",
     "text": [
      "Validation: 100%|██████████| 46/46 [00:01<00:00, 43.30it/s]\n"
     ]
    },
    {
     "name": "stdout",
     "output_type": "stream",
     "text": [
      "(729, 15) (729, 15)\n",
      "9638 9638 1297 1297\n"
     ]
    },
    {
     "name": "stderr",
     "output_type": "stream",
     "text": [
      "Training Epoch 3/50: 100%|██████████| 548/548 [00:39<00:00, 13.93it/s]\n"
     ]
    },
    {
     "name": "stdout",
     "output_type": "stream",
     "text": [
      "(8756, 15) (8756, 15)\n",
      "118204 118204 13136 13136\n"
     ]
    },
    {
     "name": "stderr",
     "output_type": "stream",
     "text": [
      "Validation: 100%|██████████| 46/46 [00:01<00:00, 42.97it/s]\n"
     ]
    },
    {
     "name": "stdout",
     "output_type": "stream",
     "text": [
      "(729, 15) (729, 15)\n",
      "9678 9678 1257 1257\n"
     ]
    },
    {
     "name": "stderr",
     "output_type": "stream",
     "text": [
      "Training Epoch 4/50: 100%|██████████| 548/548 [00:39<00:00, 13.92it/s]\n"
     ]
    },
    {
     "name": "stdout",
     "output_type": "stream",
     "text": [
      "(8756, 15) (8756, 15)\n",
      "120702 120702 10638 10638\n"
     ]
    },
    {
     "name": "stderr",
     "output_type": "stream",
     "text": [
      "Validation: 100%|██████████| 46/46 [00:01<00:00, 42.71it/s]\n"
     ]
    },
    {
     "name": "stdout",
     "output_type": "stream",
     "text": [
      "(729, 15) (729, 15)\n",
      "9669 9669 1266 1266\n"
     ]
    },
    {
     "name": "stderr",
     "output_type": "stream",
     "text": [
      "Training Epoch 5/50: 100%|██████████| 548/548 [00:39<00:00, 13.89it/s]\n"
     ]
    },
    {
     "name": "stdout",
     "output_type": "stream",
     "text": [
      "(8756, 15) (8756, 15)\n",
      "122879 122879 8461 8461\n"
     ]
    },
    {
     "name": "stderr",
     "output_type": "stream",
     "text": [
      "Validation: 100%|██████████| 46/46 [00:01<00:00, 42.64it/s]\n"
     ]
    },
    {
     "name": "stdout",
     "output_type": "stream",
     "text": [
      "(729, 15) (729, 15)\n",
      "9748 9748 1187 1187\n"
     ]
    },
    {
     "name": "stderr",
     "output_type": "stream",
     "text": [
      "Training Epoch 6/50: 100%|██████████| 548/548 [00:39<00:00, 13.82it/s]\n"
     ]
    },
    {
     "name": "stdout",
     "output_type": "stream",
     "text": [
      "(8756, 15) (8756, 15)\n",
      "124174 124174 7166 7166\n"
     ]
    },
    {
     "name": "stderr",
     "output_type": "stream",
     "text": [
      "Validation: 100%|██████████| 46/46 [00:01<00:00, 42.04it/s]\n"
     ]
    },
    {
     "name": "stdout",
     "output_type": "stream",
     "text": [
      "(729, 15) (729, 15)\n",
      "9801 9801 1134 1134\n"
     ]
    },
    {
     "name": "stderr",
     "output_type": "stream",
     "text": [
      "Training Epoch 7/50: 100%|██████████| 548/548 [00:39<00:00, 13.84it/s]\n"
     ]
    },
    {
     "name": "stdout",
     "output_type": "stream",
     "text": [
      "(8756, 15) (8756, 15)\n",
      "125429 125429 5911 5911\n"
     ]
    },
    {
     "name": "stderr",
     "output_type": "stream",
     "text": [
      "Validation: 100%|██████████| 46/46 [00:01<00:00, 42.16it/s]\n"
     ]
    },
    {
     "name": "stdout",
     "output_type": "stream",
     "text": [
      "(729, 15) (729, 15)\n",
      "9843 9843 1092 1092\n"
     ]
    },
    {
     "name": "stderr",
     "output_type": "stream",
     "text": [
      "Training Epoch 8/50: 100%|██████████| 548/548 [00:39<00:00, 13.81it/s]\n"
     ]
    },
    {
     "name": "stdout",
     "output_type": "stream",
     "text": [
      "(8756, 15) (8756, 15)\n",
      "126615 126615 4725 4725\n"
     ]
    },
    {
     "name": "stderr",
     "output_type": "stream",
     "text": [
      "Validation: 100%|██████████| 46/46 [00:01<00:00, 42.53it/s]\n"
     ]
    },
    {
     "name": "stdout",
     "output_type": "stream",
     "text": [
      "(729, 15) (729, 15)\n",
      "9860 9860 1075 1075\n"
     ]
    },
    {
     "name": "stderr",
     "output_type": "stream",
     "text": [
      "Training Epoch 9/50: 100%|██████████| 548/548 [00:39<00:00, 13.85it/s]\n"
     ]
    },
    {
     "name": "stdout",
     "output_type": "stream",
     "text": [
      "(8756, 15) (8756, 15)\n",
      "127489 127489 3851 3851\n"
     ]
    },
    {
     "name": "stderr",
     "output_type": "stream",
     "text": [
      "Validation: 100%|██████████| 46/46 [00:01<00:00, 42.45it/s]\n"
     ]
    },
    {
     "name": "stdout",
     "output_type": "stream",
     "text": [
      "(729, 15) (729, 15)\n",
      "9875 9875 1060 1060\n"
     ]
    },
    {
     "name": "stderr",
     "output_type": "stream",
     "text": [
      "Training Epoch 10/50: 100%|██████████| 548/548 [00:39<00:00, 13.88it/s]\n"
     ]
    },
    {
     "name": "stdout",
     "output_type": "stream",
     "text": [
      "(8756, 15) (8756, 15)\n",
      "127973 127973 3367 3367\n"
     ]
    },
    {
     "name": "stderr",
     "output_type": "stream",
     "text": [
      "Validation: 100%|██████████| 46/46 [00:01<00:00, 42.35it/s]\n"
     ]
    },
    {
     "name": "stdout",
     "output_type": "stream",
     "text": [
      "(729, 15) (729, 15)\n",
      "9840 9840 1095 1095\n"
     ]
    },
    {
     "name": "stderr",
     "output_type": "stream",
     "text": [
      "Training Epoch 11/50: 100%|██████████| 548/548 [00:39<00:00, 13.89it/s]\n"
     ]
    },
    {
     "name": "stdout",
     "output_type": "stream",
     "text": [
      "(8756, 15) (8756, 15)\n",
      "127379 127379 3961 3961\n"
     ]
    },
    {
     "name": "stderr",
     "output_type": "stream",
     "text": [
      "Validation: 100%|██████████| 46/46 [00:01<00:00, 42.17it/s]\n"
     ]
    },
    {
     "name": "stdout",
     "output_type": "stream",
     "text": [
      "(729, 15) (729, 15)\n",
      "9788 9788 1147 1147\n"
     ]
    },
    {
     "name": "stderr",
     "output_type": "stream",
     "text": [
      "Training Epoch 12/50: 100%|██████████| 548/548 [00:39<00:00, 13.92it/s]\n"
     ]
    },
    {
     "name": "stdout",
     "output_type": "stream",
     "text": [
      "(8756, 15) (8756, 15)\n",
      "127588 127588 3752 3752\n"
     ]
    },
    {
     "name": "stderr",
     "output_type": "stream",
     "text": [
      "Validation: 100%|██████████| 46/46 [00:01<00:00, 42.56it/s]\n"
     ]
    },
    {
     "name": "stdout",
     "output_type": "stream",
     "text": [
      "(729, 15) (729, 15)\n",
      "9904 9904 1031 1031\n"
     ]
    },
    {
     "name": "stderr",
     "output_type": "stream",
     "text": [
      "Training Epoch 13/50: 100%|██████████| 548/548 [00:39<00:00, 13.85it/s]\n"
     ]
    },
    {
     "name": "stdout",
     "output_type": "stream",
     "text": [
      "(8756, 15) (8756, 15)\n",
      "128956 128956 2384 2384\n"
     ]
    },
    {
     "name": "stderr",
     "output_type": "stream",
     "text": [
      "Validation: 100%|██████████| 46/46 [00:01<00:00, 42.04it/s]\n"
     ]
    },
    {
     "name": "stdout",
     "output_type": "stream",
     "text": [
      "(729, 15) (729, 15)\n",
      "9925 9925 1010 1010\n"
     ]
    },
    {
     "name": "stderr",
     "output_type": "stream",
     "text": [
      "Training Epoch 14/50: 100%|██████████| 548/548 [00:39<00:00, 13.88it/s]\n"
     ]
    },
    {
     "name": "stdout",
     "output_type": "stream",
     "text": [
      "(8756, 15) (8756, 15)\n",
      "129823 129823 1517 1517\n"
     ]
    },
    {
     "name": "stderr",
     "output_type": "stream",
     "text": [
      "Validation: 100%|██████████| 46/46 [00:01<00:00, 42.28it/s]\n"
     ]
    },
    {
     "name": "stdout",
     "output_type": "stream",
     "text": [
      "(729, 15) (729, 15)\n",
      "9950 9950 985 985\n"
     ]
    },
    {
     "name": "stderr",
     "output_type": "stream",
     "text": [
      "Training Epoch 15/50: 100%|██████████| 548/548 [00:39<00:00, 13.94it/s]\n"
     ]
    },
    {
     "name": "stdout",
     "output_type": "stream",
     "text": [
      "(8756, 15) (8756, 15)\n",
      "130285 130285 1055 1055\n"
     ]
    },
    {
     "name": "stderr",
     "output_type": "stream",
     "text": [
      "Validation: 100%|██████████| 46/46 [00:01<00:00, 42.82it/s]\n"
     ]
    },
    {
     "name": "stdout",
     "output_type": "stream",
     "text": [
      "(729, 15) (729, 15)\n",
      "9976 9976 959 959\n"
     ]
    },
    {
     "name": "stderr",
     "output_type": "stream",
     "text": [
      "Training Epoch 16/50: 100%|██████████| 548/548 [00:39<00:00, 13.91it/s]\n"
     ]
    },
    {
     "name": "stdout",
     "output_type": "stream",
     "text": [
      "(8756, 15) (8756, 15)\n",
      "130496 130496 844 844\n"
     ]
    },
    {
     "name": "stderr",
     "output_type": "stream",
     "text": [
      "Validation: 100%|██████████| 46/46 [00:01<00:00, 42.41it/s]\n"
     ]
    },
    {
     "name": "stdout",
     "output_type": "stream",
     "text": [
      "(729, 15) (729, 15)\n",
      "9956 9956 979 979\n"
     ]
    },
    {
     "name": "stderr",
     "output_type": "stream",
     "text": [
      "Training Epoch 17/50: 100%|██████████| 548/548 [00:39<00:00, 13.81it/s]\n"
     ]
    },
    {
     "name": "stdout",
     "output_type": "stream",
     "text": [
      "(8756, 15) (8756, 15)\n",
      "130399 130399 941 941\n"
     ]
    },
    {
     "name": "stderr",
     "output_type": "stream",
     "text": [
      "Validation: 100%|██████████| 46/46 [00:01<00:00, 42.10it/s]\n"
     ]
    },
    {
     "name": "stdout",
     "output_type": "stream",
     "text": [
      "(729, 15) (729, 15)\n",
      "9957 9957 978 978\n"
     ]
    },
    {
     "name": "stderr",
     "output_type": "stream",
     "text": [
      "Training Epoch 18/50: 100%|██████████| 548/548 [00:39<00:00, 13.93it/s]\n"
     ]
    },
    {
     "name": "stdout",
     "output_type": "stream",
     "text": [
      "(8756, 15) (8756, 15)\n",
      "128136 128136 3204 3204\n"
     ]
    },
    {
     "name": "stderr",
     "output_type": "stream",
     "text": [
      "Validation: 100%|██████████| 46/46 [00:01<00:00, 42.88it/s]\n"
     ]
    },
    {
     "name": "stdout",
     "output_type": "stream",
     "text": [
      "(729, 15) (729, 15)\n",
      "9791 9791 1144 1144\n"
     ]
    },
    {
     "name": "stderr",
     "output_type": "stream",
     "text": [
      "Training Epoch 19/50: 100%|██████████| 548/548 [00:39<00:00, 13.90it/s]\n"
     ]
    },
    {
     "name": "stdout",
     "output_type": "stream",
     "text": [
      "(8756, 15) (8756, 15)\n",
      "128003 128003 3337 3337\n"
     ]
    },
    {
     "name": "stderr",
     "output_type": "stream",
     "text": [
      "Validation: 100%|██████████| 46/46 [00:01<00:00, 42.67it/s]\n"
     ]
    },
    {
     "name": "stdout",
     "output_type": "stream",
     "text": [
      "(729, 15) (729, 15)\n",
      "9909 9909 1026 1026\n"
     ]
    },
    {
     "name": "stderr",
     "output_type": "stream",
     "text": [
      "Training Epoch 20/50: 100%|██████████| 548/548 [00:39<00:00, 13.92it/s]\n"
     ]
    },
    {
     "name": "stdout",
     "output_type": "stream",
     "text": [
      "(8756, 15) (8756, 15)\n",
      "130067 130067 1273 1273\n"
     ]
    },
    {
     "name": "stderr",
     "output_type": "stream",
     "text": [
      "Validation: 100%|██████████| 46/46 [00:01<00:00, 42.90it/s]\n"
     ]
    },
    {
     "name": "stdout",
     "output_type": "stream",
     "text": [
      "(729, 15) (729, 15)\n",
      "9937 9937 998 998\n"
     ]
    },
    {
     "name": "stderr",
     "output_type": "stream",
     "text": [
      "Training Epoch 21/50: 100%|██████████| 548/548 [00:39<00:00, 13.94it/s]\n"
     ]
    },
    {
     "name": "stdout",
     "output_type": "stream",
     "text": [
      "(8756, 15) (8756, 15)\n",
      "130714 130714 626 626\n"
     ]
    },
    {
     "name": "stderr",
     "output_type": "stream",
     "text": [
      "Validation: 100%|██████████| 46/46 [00:01<00:00, 42.53it/s]\n"
     ]
    },
    {
     "name": "stdout",
     "output_type": "stream",
     "text": [
      "(729, 15) (729, 15)\n",
      "9992 9992 943 943\n"
     ]
    },
    {
     "name": "stderr",
     "output_type": "stream",
     "text": [
      "Training Epoch 22/50: 100%|██████████| 548/548 [00:39<00:00, 13.91it/s]\n"
     ]
    },
    {
     "name": "stdout",
     "output_type": "stream",
     "text": [
      "(8756, 15) (8756, 15)\n",
      "131021 131021 319 319\n"
     ]
    },
    {
     "name": "stderr",
     "output_type": "stream",
     "text": [
      "Validation: 100%|██████████| 46/46 [00:01<00:00, 43.03it/s]\n"
     ]
    },
    {
     "name": "stdout",
     "output_type": "stream",
     "text": [
      "(729, 15) (729, 15)\n",
      "10017 10017 918 918\n"
     ]
    },
    {
     "name": "stderr",
     "output_type": "stream",
     "text": [
      "Training Epoch 23/50: 100%|██████████| 548/548 [00:39<00:00, 13.92it/s]\n"
     ]
    },
    {
     "name": "stdout",
     "output_type": "stream",
     "text": [
      "(8756, 15) (8756, 15)\n",
      "131133 131133 207 207\n"
     ]
    },
    {
     "name": "stderr",
     "output_type": "stream",
     "text": [
      "Validation: 100%|██████████| 46/46 [00:01<00:00, 43.13it/s]\n"
     ]
    },
    {
     "name": "stdout",
     "output_type": "stream",
     "text": [
      "(729, 15) (729, 15)\n",
      "10019 10019 916 916\n"
     ]
    },
    {
     "name": "stderr",
     "output_type": "stream",
     "text": [
      "Training Epoch 24/50: 100%|██████████| 548/548 [00:39<00:00, 13.89it/s]\n"
     ]
    },
    {
     "name": "stdout",
     "output_type": "stream",
     "text": [
      "(8756, 15) (8756, 15)\n",
      "131165 131165 175 175\n"
     ]
    },
    {
     "name": "stderr",
     "output_type": "stream",
     "text": [
      "Validation: 100%|██████████| 46/46 [00:01<00:00, 42.74it/s]\n"
     ]
    },
    {
     "name": "stdout",
     "output_type": "stream",
     "text": [
      "(729, 15) (729, 15)\n",
      "10032 10032 903 903\n"
     ]
    },
    {
     "name": "stderr",
     "output_type": "stream",
     "text": [
      "Training Epoch 25/50: 100%|██████████| 548/548 [00:39<00:00, 13.85it/s]\n"
     ]
    },
    {
     "name": "stdout",
     "output_type": "stream",
     "text": [
      "(8756, 15) (8756, 15)\n",
      "131187 131187 153 153\n"
     ]
    },
    {
     "name": "stderr",
     "output_type": "stream",
     "text": [
      "Validation: 100%|██████████| 46/46 [00:01<00:00, 42.26it/s]\n"
     ]
    },
    {
     "name": "stdout",
     "output_type": "stream",
     "text": [
      "(729, 15) (729, 15)\n",
      "10015 10015 920 920\n"
     ]
    },
    {
     "name": "stderr",
     "output_type": "stream",
     "text": [
      "Training Epoch 26/50: 100%|██████████| 548/548 [00:39<00:00, 13.92it/s]\n"
     ]
    },
    {
     "name": "stdout",
     "output_type": "stream",
     "text": [
      "(8756, 15) (8756, 15)\n",
      "129525 129525 1815 1815\n"
     ]
    },
    {
     "name": "stderr",
     "output_type": "stream",
     "text": [
      "Validation: 100%|██████████| 46/46 [00:01<00:00, 42.86it/s]\n"
     ]
    },
    {
     "name": "stdout",
     "output_type": "stream",
     "text": [
      "(729, 15) (729, 15)\n",
      "9852 9852 1083 1083\n"
     ]
    },
    {
     "name": "stderr",
     "output_type": "stream",
     "text": [
      "Training Epoch 27/50: 100%|██████████| 548/548 [00:39<00:00, 13.96it/s]\n"
     ]
    },
    {
     "name": "stdout",
     "output_type": "stream",
     "text": [
      "(8756, 15) (8756, 15)\n",
      "128021 128021 3319 3319\n"
     ]
    },
    {
     "name": "stderr",
     "output_type": "stream",
     "text": [
      "Validation: 100%|██████████| 46/46 [00:01<00:00, 42.90it/s]\n"
     ]
    },
    {
     "name": "stdout",
     "output_type": "stream",
     "text": [
      "(729, 15) (729, 15)\n",
      "9963 9963 972 972\n"
     ]
    },
    {
     "name": "stderr",
     "output_type": "stream",
     "text": [
      "Training Epoch 28/50: 100%|██████████| 548/548 [00:39<00:00, 13.90it/s]\n"
     ]
    },
    {
     "name": "stdout",
     "output_type": "stream",
     "text": [
      "(8756, 15) (8756, 15)\n",
      "130381 130381 959 959\n"
     ]
    },
    {
     "name": "stderr",
     "output_type": "stream",
     "text": [
      "Validation: 100%|██████████| 46/46 [00:01<00:00, 42.73it/s]\n"
     ]
    },
    {
     "name": "stdout",
     "output_type": "stream",
     "text": [
      "(729, 15) (729, 15)\n",
      "9986 9986 949 949\n"
     ]
    },
    {
     "name": "stderr",
     "output_type": "stream",
     "text": [
      "Training Epoch 29/50: 100%|██████████| 548/548 [00:39<00:00, 13.94it/s]\n"
     ]
    },
    {
     "name": "stdout",
     "output_type": "stream",
     "text": [
      "(8756, 15) (8756, 15)\n",
      "130920 130920 420 420\n"
     ]
    },
    {
     "name": "stderr",
     "output_type": "stream",
     "text": [
      "Validation: 100%|██████████| 46/46 [00:01<00:00, 43.10it/s]\n"
     ]
    },
    {
     "name": "stdout",
     "output_type": "stream",
     "text": [
      "(729, 15) (729, 15)\n",
      "9998 9998 937 937\n"
     ]
    },
    {
     "name": "stderr",
     "output_type": "stream",
     "text": [
      "Training Epoch 30/50: 100%|██████████| 548/548 [00:39<00:00, 13.93it/s]\n"
     ]
    },
    {
     "name": "stdout",
     "output_type": "stream",
     "text": [
      "(8756, 15) (8756, 15)\n",
      "131132 131132 208 208\n"
     ]
    },
    {
     "name": "stderr",
     "output_type": "stream",
     "text": [
      "Validation: 100%|██████████| 46/46 [00:01<00:00, 42.58it/s]\n"
     ]
    },
    {
     "name": "stdout",
     "output_type": "stream",
     "text": [
      "(729, 15) (729, 15)\n",
      "10024 10024 911 911\n"
     ]
    },
    {
     "name": "stderr",
     "output_type": "stream",
     "text": [
      "Training Epoch 31/50: 100%|██████████| 548/548 [00:39<00:00, 13.94it/s]\n"
     ]
    },
    {
     "name": "stdout",
     "output_type": "stream",
     "text": [
      "(8756, 15) (8756, 15)\n",
      "131234 131234 106 106\n"
     ]
    },
    {
     "name": "stderr",
     "output_type": "stream",
     "text": [
      "Validation: 100%|██████████| 46/46 [00:01<00:00, 42.95it/s]\n"
     ]
    },
    {
     "name": "stdout",
     "output_type": "stream",
     "text": [
      "(729, 15) (729, 15)\n",
      "10026 10026 909 909\n"
     ]
    },
    {
     "name": "stderr",
     "output_type": "stream",
     "text": [
      "Training Epoch 32/50: 100%|██████████| 548/548 [00:39<00:00, 13.88it/s]\n"
     ]
    },
    {
     "name": "stdout",
     "output_type": "stream",
     "text": [
      "(8756, 15) (8756, 15)\n",
      "131256 131256 84 84\n"
     ]
    },
    {
     "name": "stderr",
     "output_type": "stream",
     "text": [
      "Validation: 100%|██████████| 46/46 [00:01<00:00, 43.13it/s]\n"
     ]
    },
    {
     "name": "stdout",
     "output_type": "stream",
     "text": [
      "(729, 15) (729, 15)\n",
      "10017 10017 918 918\n"
     ]
    },
    {
     "name": "stderr",
     "output_type": "stream",
     "text": [
      "Training Epoch 33/50: 100%|██████████| 548/548 [00:39<00:00, 13.97it/s]\n"
     ]
    },
    {
     "name": "stdout",
     "output_type": "stream",
     "text": [
      "(8756, 15) (8756, 15)\n",
      "131274 131274 66 66\n"
     ]
    },
    {
     "name": "stderr",
     "output_type": "stream",
     "text": [
      "Validation: 100%|██████████| 46/46 [00:01<00:00, 43.07it/s]\n"
     ]
    },
    {
     "name": "stdout",
     "output_type": "stream",
     "text": [
      "(729, 15) (729, 15)\n",
      "10046 10046 889 889\n"
     ]
    },
    {
     "name": "stderr",
     "output_type": "stream",
     "text": [
      "Training Epoch 34/50: 100%|██████████| 548/548 [00:39<00:00, 13.90it/s]\n"
     ]
    },
    {
     "name": "stdout",
     "output_type": "stream",
     "text": [
      "(8756, 15) (8756, 15)\n",
      "131289 131289 51 51\n"
     ]
    },
    {
     "name": "stderr",
     "output_type": "stream",
     "text": [
      "Validation: 100%|██████████| 46/46 [00:01<00:00, 42.43it/s]\n"
     ]
    },
    {
     "name": "stdout",
     "output_type": "stream",
     "text": [
      "(729, 15) (729, 15)\n",
      "10026 10026 909 909\n"
     ]
    },
    {
     "name": "stderr",
     "output_type": "stream",
     "text": [
      "Training Epoch 35/50: 100%|██████████| 548/548 [00:39<00:00, 13.96it/s]\n"
     ]
    },
    {
     "name": "stdout",
     "output_type": "stream",
     "text": [
      "(8756, 15) (8756, 15)\n",
      "129415 129415 1925 1925\n"
     ]
    },
    {
     "name": "stderr",
     "output_type": "stream",
     "text": [
      "Validation: 100%|██████████| 46/46 [00:01<00:00, 41.98it/s]\n"
     ]
    },
    {
     "name": "stdout",
     "output_type": "stream",
     "text": [
      "(729, 15) (729, 15)\n",
      "9815 9815 1120 1120\n"
     ]
    },
    {
     "name": "stderr",
     "output_type": "stream",
     "text": [
      "Training Epoch 36/50: 100%|██████████| 548/548 [00:39<00:00, 13.97it/s]\n"
     ]
    },
    {
     "name": "stdout",
     "output_type": "stream",
     "text": [
      "(8756, 15) (8756, 15)\n",
      "128661 128661 2679 2679\n"
     ]
    },
    {
     "name": "stderr",
     "output_type": "stream",
     "text": [
      "Validation: 100%|██████████| 46/46 [00:01<00:00, 42.75it/s]\n"
     ]
    },
    {
     "name": "stdout",
     "output_type": "stream",
     "text": [
      "(729, 15) (729, 15)\n",
      "9967 9967 968 968\n"
     ]
    },
    {
     "name": "stderr",
     "output_type": "stream",
     "text": [
      "Training Epoch 37/50: 100%|██████████| 548/548 [00:39<00:00, 13.86it/s]\n"
     ]
    },
    {
     "name": "stdout",
     "output_type": "stream",
     "text": [
      "(8756, 15) (8756, 15)\n",
      "130683 130683 657 657\n"
     ]
    },
    {
     "name": "stderr",
     "output_type": "stream",
     "text": [
      "Validation: 100%|██████████| 46/46 [00:01<00:00, 41.79it/s]\n"
     ]
    },
    {
     "name": "stdout",
     "output_type": "stream",
     "text": [
      "(729, 15) (729, 15)\n",
      "9924 9924 1011 1011\n"
     ]
    },
    {
     "name": "stderr",
     "output_type": "stream",
     "text": [
      "Training Epoch 38/50: 100%|██████████| 548/548 [00:39<00:00, 13.94it/s]\n"
     ]
    },
    {
     "name": "stdout",
     "output_type": "stream",
     "text": [
      "(8756, 15) (8756, 15)\n",
      "131046 131046 294 294\n"
     ]
    },
    {
     "name": "stderr",
     "output_type": "stream",
     "text": [
      "Validation: 100%|██████████| 46/46 [00:01<00:00, 42.87it/s]\n"
     ]
    },
    {
     "name": "stdout",
     "output_type": "stream",
     "text": [
      "(729, 15) (729, 15)\n",
      "9972 9972 963 963\n"
     ]
    },
    {
     "name": "stderr",
     "output_type": "stream",
     "text": [
      "Training Epoch 39/50: 100%|██████████| 548/548 [00:39<00:00, 13.94it/s]\n"
     ]
    },
    {
     "name": "stdout",
     "output_type": "stream",
     "text": [
      "(8756, 15) (8756, 15)\n",
      "131248 131248 92 92\n"
     ]
    },
    {
     "name": "stderr",
     "output_type": "stream",
     "text": [
      "Validation: 100%|██████████| 46/46 [00:01<00:00, 42.83it/s]\n"
     ]
    },
    {
     "name": "stdout",
     "output_type": "stream",
     "text": [
      "(729, 15) (729, 15)\n",
      "10010 10010 925 925\n"
     ]
    },
    {
     "name": "stderr",
     "output_type": "stream",
     "text": [
      "Training Epoch 40/50: 100%|██████████| 548/548 [00:39<00:00, 13.99it/s]\n"
     ]
    },
    {
     "name": "stdout",
     "output_type": "stream",
     "text": [
      "(8756, 15) (8756, 15)\n",
      "131293 131293 47 47\n"
     ]
    },
    {
     "name": "stderr",
     "output_type": "stream",
     "text": [
      "Validation: 100%|██████████| 46/46 [00:01<00:00, 43.30it/s]\n"
     ]
    },
    {
     "name": "stdout",
     "output_type": "stream",
     "text": [
      "(729, 15) (729, 15)\n",
      "10014 10014 921 921\n"
     ]
    },
    {
     "name": "stderr",
     "output_type": "stream",
     "text": [
      "Training Epoch 41/50: 100%|██████████| 548/548 [00:39<00:00, 14.01it/s]\n"
     ]
    },
    {
     "name": "stdout",
     "output_type": "stream",
     "text": [
      "(8756, 15) (8756, 15)\n",
      "131308 131308 32 32\n"
     ]
    },
    {
     "name": "stderr",
     "output_type": "stream",
     "text": [
      "Validation: 100%|██████████| 46/46 [00:01<00:00, 42.86it/s]\n"
     ]
    },
    {
     "name": "stdout",
     "output_type": "stream",
     "text": [
      "(729, 15) (729, 15)\n",
      "10017 10017 918 918\n"
     ]
    },
    {
     "name": "stderr",
     "output_type": "stream",
     "text": [
      "Training Epoch 42/50: 100%|██████████| 548/548 [00:39<00:00, 13.95it/s]\n"
     ]
    },
    {
     "name": "stdout",
     "output_type": "stream",
     "text": [
      "(8756, 15) (8756, 15)\n",
      "131314 131314 26 26\n"
     ]
    },
    {
     "name": "stderr",
     "output_type": "stream",
     "text": [
      "Validation: 100%|██████████| 46/46 [00:01<00:00, 42.50it/s]\n"
     ]
    },
    {
     "name": "stdout",
     "output_type": "stream",
     "text": [
      "(729, 15) (729, 15)\n",
      "10023 10023 912 912\n"
     ]
    },
    {
     "name": "stderr",
     "output_type": "stream",
     "text": [
      "Training Epoch 43/50: 100%|██████████| 548/548 [00:39<00:00, 13.88it/s]\n"
     ]
    },
    {
     "name": "stdout",
     "output_type": "stream",
     "text": [
      "(8756, 15) (8756, 15)\n",
      "131305 131305 35 35\n"
     ]
    },
    {
     "name": "stderr",
     "output_type": "stream",
     "text": [
      "Validation: 100%|██████████| 46/46 [00:01<00:00, 41.92it/s]\n"
     ]
    },
    {
     "name": "stdout",
     "output_type": "stream",
     "text": [
      "(729, 15) (729, 15)\n",
      "10019 10019 916 916\n"
     ]
    },
    {
     "name": "stderr",
     "output_type": "stream",
     "text": [
      "Training Epoch 44/50: 100%|██████████| 548/548 [00:39<00:00, 13.85it/s]\n"
     ]
    },
    {
     "name": "stdout",
     "output_type": "stream",
     "text": [
      "(8756, 15) (8756, 15)\n",
      "129087 129087 2253 2253\n"
     ]
    },
    {
     "name": "stderr",
     "output_type": "stream",
     "text": [
      "Validation: 100%|██████████| 46/46 [00:01<00:00, 42.48it/s]\n"
     ]
    },
    {
     "name": "stdout",
     "output_type": "stream",
     "text": [
      "(729, 15) (729, 15)\n",
      "9874 9874 1061 1061\n"
     ]
    },
    {
     "name": "stderr",
     "output_type": "stream",
     "text": [
      "Training Epoch 45/50: 100%|██████████| 548/548 [00:39<00:00, 13.90it/s]\n"
     ]
    },
    {
     "name": "stdout",
     "output_type": "stream",
     "text": [
      "(8756, 15) (8756, 15)\n",
      "130024 130024 1316 1316\n"
     ]
    },
    {
     "name": "stderr",
     "output_type": "stream",
     "text": [
      "Validation: 100%|██████████| 46/46 [00:01<00:00, 43.20it/s]\n"
     ]
    },
    {
     "name": "stdout",
     "output_type": "stream",
     "text": [
      "(729, 15) (729, 15)\n",
      "9982 9982 953 953\n"
     ]
    },
    {
     "name": "stderr",
     "output_type": "stream",
     "text": [
      "Training Epoch 46/50: 100%|██████████| 548/548 [00:39<00:00, 13.95it/s]\n"
     ]
    },
    {
     "name": "stdout",
     "output_type": "stream",
     "text": [
      "(8756, 15) (8756, 15)\n",
      "130978 130978 362 362\n"
     ]
    },
    {
     "name": "stderr",
     "output_type": "stream",
     "text": [
      "Validation: 100%|██████████| 46/46 [00:01<00:00, 42.46it/s]\n"
     ]
    },
    {
     "name": "stdout",
     "output_type": "stream",
     "text": [
      "(729, 15) (729, 15)\n",
      "10031 10031 904 904\n"
     ]
    },
    {
     "name": "stderr",
     "output_type": "stream",
     "text": [
      "Training Epoch 47/50: 100%|██████████| 548/548 [00:39<00:00, 13.86it/s]\n"
     ]
    },
    {
     "name": "stdout",
     "output_type": "stream",
     "text": [
      "(8756, 15) (8756, 15)\n",
      "131198 131198 142 142\n"
     ]
    },
    {
     "name": "stderr",
     "output_type": "stream",
     "text": [
      "Validation: 100%|██████████| 46/46 [00:01<00:00, 42.79it/s]\n"
     ]
    },
    {
     "name": "stdout",
     "output_type": "stream",
     "text": [
      "(729, 15) (729, 15)\n",
      "10023 10023 912 912\n"
     ]
    },
    {
     "name": "stderr",
     "output_type": "stream",
     "text": [
      "Training Epoch 48/50: 100%|██████████| 548/548 [00:39<00:00, 13.87it/s]\n"
     ]
    },
    {
     "name": "stdout",
     "output_type": "stream",
     "text": [
      "(8756, 15) (8756, 15)\n",
      "131300 131300 40 40\n"
     ]
    },
    {
     "name": "stderr",
     "output_type": "stream",
     "text": [
      "Validation: 100%|██████████| 46/46 [00:01<00:00, 43.01it/s]\n"
     ]
    },
    {
     "name": "stdout",
     "output_type": "stream",
     "text": [
      "(729, 15) (729, 15)\n",
      "10043 10043 892 892\n"
     ]
    },
    {
     "name": "stderr",
     "output_type": "stream",
     "text": [
      "Training Epoch 49/50: 100%|██████████| 548/548 [00:39<00:00, 13.94it/s]\n"
     ]
    },
    {
     "name": "stdout",
     "output_type": "stream",
     "text": [
      "(8756, 15) (8756, 15)\n",
      "131322 131322 18 18\n"
     ]
    },
    {
     "name": "stderr",
     "output_type": "stream",
     "text": [
      "Validation: 100%|██████████| 46/46 [00:01<00:00, 43.22it/s]\n"
     ]
    },
    {
     "name": "stdout",
     "output_type": "stream",
     "text": [
      "(729, 15) (729, 15)\n",
      "10037 10037 898 898\n"
     ]
    },
    {
     "name": "stderr",
     "output_type": "stream",
     "text": [
      "Training Epoch 50/50: 100%|██████████| 548/548 [00:39<00:00, 13.97it/s]\n"
     ]
    },
    {
     "name": "stdout",
     "output_type": "stream",
     "text": [
      "(8756, 15) (8756, 15)\n",
      "131333 131333 7 7\n"
     ]
    },
    {
     "name": "stderr",
     "output_type": "stream",
     "text": [
      "Validation: 100%|██████████| 46/46 [00:01<00:00, 43.06it/s]\n"
     ]
    },
    {
     "name": "stdout",
     "output_type": "stream",
     "text": [
      "(729, 15) (729, 15)\n",
      "10038 10038 897 897\n"
     ]
    }
   ],
   "source": [
    "train_model(model, train_loader, val_loader, 0.001, 50)"
   ]
  },
  {
   "cell_type": "code",
   "execution_count": 78,
   "metadata": {},
   "outputs": [],
   "source": [
    "torch.save(model, \"model80.pth\")"
   ]
  },
  {
   "cell_type": "code",
   "execution_count": null,
   "metadata": {},
   "outputs": [],
   "source": [
    "model = torch.load(\"model.pth\")\n",
    "model.eval()"
   ]
  },
  {
   "cell_type": "markdown",
   "metadata": {},
   "source": [
    "## Метрики"
   ]
  },
  {
   "cell_type": "code",
   "execution_count": 76,
   "metadata": {},
   "outputs": [
    {
     "name": "stderr",
     "output_type": "stream",
     "text": [
      "Evaluating: 100%|██████████| 320/320 [13:07<00:00,  2.46s/it]"
     ]
    },
    {
     "name": "stdout",
     "output_type": "stream",
     "text": [
      "F1-Score: 0.8061\n"
     ]
    },
    {
     "name": "stderr",
     "output_type": "stream",
     "text": [
      "\n"
     ]
    }
   ],
   "source": [
    "model.eval()\n",
    "all_predictions = []\n",
    "all_labels = []\n",
    "with torch.no_grad():\n",
    "    for batch in tqdm(test_loader, desc=\"Evaluating\"):\n",
    "        inputs = batch['image'].to(device)\n",
    "        labels = batch['label'].to(device)\n",
    "\n",
    "        outputs = model(inputs)\n",
    "        outputs = (outputs > 0.5).float()\n",
    "\n",
    "        all_predictions.append(outputs.cpu().numpy())\n",
    "        all_labels.append(labels.cpu().numpy())\n",
    "    \n",
    "all_predictions = np.vstack(all_predictions)\n",
    "all_labels = np.vstack(all_labels)\n",
    "    \n",
    "f1 = f1_score(all_labels, all_predictions, average='weighted')  \n",
    "print(f\"F1-Score: {f1:.4f}\")"
   ]
  },
  {
   "cell_type": "code",
   "execution_count": 79,
   "metadata": {},
   "outputs": [
    {
     "data": {
      "text/plain": [
       "np.float64(0.6028597595650425)"
      ]
     },
     "execution_count": 79,
     "metadata": {},
     "output_type": "execute_result"
    }
   ],
   "source": [
    "f1_score(all_labels, all_predictions, average='macro')  "
   ]
  },
  {
   "cell_type": "code",
   "execution_count": 80,
   "metadata": {},
   "outputs": [
    {
     "data": {
      "text/plain": [
       "np.float64(0.818353419485988)"
      ]
     },
     "execution_count": 80,
     "metadata": {},
     "output_type": "execute_result"
    }
   ],
   "source": [
    "f1_score(all_labels, all_predictions, average='micro')  "
   ]
  },
  {
   "cell_type": "code",
   "execution_count": 77,
   "metadata": {},
   "outputs": [
    {
     "name": "stderr",
     "output_type": "stream",
     "text": [
      "Evaluating: 100%|██████████| 320/320 [00:07<00:00, 42.48it/s]"
     ]
    },
    {
     "name": "stdout",
     "output_type": "stream",
     "text": [
      "Class 0 F1-Score: 0.7120\n",
      "Class 1 F1-Score: 0.8665\n",
      "Class 2 F1-Score: 0.4981\n",
      "Class 3 F1-Score: 0.5759\n",
      "Class 4 F1-Score: 0.9214\n",
      "Class 5 F1-Score: 0.0551\n",
      "Class 6 F1-Score: 0.8484\n",
      "Class 7 F1-Score: 0.8639\n",
      "Class 8 F1-Score: 0.4510\n",
      "Class 9 F1-Score: 0.8189\n",
      "Class 10 F1-Score: 0.8396\n",
      "Class 11 F1-Score: 0.1928\n",
      "Class 12 F1-Score: 0.6957\n",
      "Class 13 F1-Score: 0.2500\n",
      "Class 14 F1-Score: 0.4536\n"
     ]
    },
    {
     "name": "stderr",
     "output_type": "stream",
     "text": [
      "\n"
     ]
    }
   ],
   "source": [
    "import numpy as np\n",
    "from sklearn.metrics import f1_score\n",
    "import torch\n",
    "from tqdm import tqdm\n",
    "\n",
    "# Переводим модель в режим оценки\n",
    "model.eval()\n",
    "\n",
    "all_predictions = []\n",
    "all_labels = []\n",
    "\n",
    "with torch.no_grad():\n",
    "    for batch in tqdm(test_loader, desc=\"Evaluating\"):\n",
    "        inputs = batch['image'].to(device)\n",
    "        labels = batch['label'].to(device)\n",
    "\n",
    "        outputs = model(inputs)\n",
    "        outputs = (outputs > 0.5).float()  # Если задача бинарной классификации, иначе можно использовать softmax\n",
    "\n",
    "        all_predictions.append(outputs.cpu().numpy())\n",
    "        all_labels.append(labels.cpu().numpy())\n",
    "\n",
    "# Преобразуем списки в массивы\n",
    "all_predictions = np.vstack(all_predictions)\n",
    "all_labels = np.vstack(all_labels)\n",
    "\n",
    "# Вычисляем F1-Score для каждого класса\n",
    "f1_per_class = f1_score(all_labels, all_predictions, average=None)\n",
    "\n",
    "# Выводим F1-Score для каждого класса\n",
    "for i, f1 in enumerate(f1_per_class):\n",
    "    print(f\"Class {i} F1-Score: {f1:.4f}\")"
   ]
  }
 ],
 "metadata": {
  "kernelspec": {
   "display_name": "Python 3",
   "language": "python",
   "name": "python3"
  },
  "language_info": {
   "codemirror_mode": {
    "name": "ipython",
    "version": 3
   },
   "file_extension": ".py",
   "mimetype": "text/x-python",
   "name": "python",
   "nbconvert_exporter": "python",
   "pygments_lexer": "ipython3",
   "version": "3.12.4"
  }
 },
 "nbformat": 4,
 "nbformat_minor": 2
}
